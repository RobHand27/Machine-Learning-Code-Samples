{
 "cells": [
  {
   "cell_type": "markdown",
   "id": "e10cfd01-a98a-4ea0-bed4-0fdf59cb377b",
   "metadata": {},
   "source": [
    "# Disruption Lab x PowerBox Fa24 Demo"
   ]
  },
  {
   "cell_type": "markdown",
   "id": "844b30e9-fd86-4d6e-b0fa-d29e96e65653",
   "metadata": {},
   "source": [
    "#### Goal: Develop a pipeline that simplifies the process of model development and execution for energy metric forecasting through GCP and Vertex AI."
   ]
  },
  {
   "cell_type": "markdown",
   "id": "89e6fdd2-73cf-4f8d-9bd9-88e29dff4ac6",
   "metadata": {},
   "source": [
    "This notebook achieves this goal by breaking down the issue into four subcategories:\n",
    "* Automate data acquisition and transformation.\n",
    "* Run a metric estimation such as future energy forecast.\n",
    "* Automatically store results in a database.\n",
    "* Have some mechanism to configure automation and frequency."
   ]
  },
  {
   "cell_type": "markdown",
   "id": "9c8c99b7-2b70-4c68-9ed1-f0cced000743",
   "metadata": {},
   "source": [
    "### Connecting to the PowerBox Database"
   ]
  },
  {
   "cell_type": "markdown",
   "id": "7e92f52d-94ab-4a7e-ac06-0e86a694a1c2",
   "metadata": {},
   "source": [
    "Establish a GCP connection with the PowerBox DB. This allows us to query for data using SQL through SQLAlchemy. Also prints a message verifying that we've connected successfully."
   ]
  },
  {
   "cell_type": "code",
   "execution_count": 1,
   "id": "339b3c76-503c-42ee-be47-4a1752d6ad3a",
   "metadata": {
    "tags": []
   },
   "outputs": [],
   "source": [
    "%%capture\n",
    "!pip install git+https://github.com/GoogleCloudPlatform/cloud-sql-python-connector.git\n",
    "!pip install pystan\n",
    "!pip install prophet\n",
    "!pip install pg8000"
   ]
  },
  {
   "cell_type": "code",
   "execution_count": 52,
   "id": "d39061a8-f728-4549-85ac-1b2f760c7fdc",
   "metadata": {
    "tags": []
   },
   "outputs": [
    {
     "name": "stdout",
     "output_type": "stream",
     "text": [
      "Downloaded service account key to /tmp/key.json\n"
     ]
    }
   ],
   "source": [
    "from google.cloud import storage\n",
    "import os\n",
    "\n",
    "def get_key():\n",
    "    BUCKET_NAME = 'powerbox-test-438421-us-notebooks'\n",
    "    KEY_PATH = 'key.json' # <BUCKET_NAME>/<KEY_PATH> on Cloud Storage\n",
    "\n",
    "    LOCAL_PATH = \"/tmp/key.json\"  # Store the key in a temporary directory\n",
    "    \n",
    "    storage_client = storage.Client()\n",
    "    bucket = storage_client.bucket(BUCKET_NAME)\n",
    "    blob = bucket.blob(KEY_PATH)\n",
    "    blob.download_to_filename(LOCAL_PATH)\n",
    "    print(f\"Downloaded service account key to {LOCAL_PATH}\")\n",
    "\n",
    "    # Set the GOOGLE_APPLICATION_CREDENTIALS environment variable\n",
    "    os.environ[\"GOOGLE_APPLICATION_CREDENTIALS\"] = LOCAL_PATH\n",
    "\n",
    "# Call this function before making any authenticated requests\n",
    "get_key()"
   ]
  },
  {
   "cell_type": "code",
   "execution_count": 53,
   "id": "8e9b4245-2034-46f5-b5d1-f1438bef89fb",
   "metadata": {},
   "outputs": [
    {
     "name": "stdout",
     "output_type": "stream",
     "text": [
      "Engine(postgresql+pg8000://)\n",
      "Connected successfully. Current database time: 2024-12-18 22:55:46.353205+00:00\n"
     ]
    }
   ],
   "source": [
    "import os\n",
    "from sqlalchemy import create_engine, text\n",
    "from google.cloud.sql.connector import Connector\n",
    "import google.auth\n",
    "import pandas as pd\n",
    "from prophet import Prophet\n",
    "\n",
    "\n",
    "DB_NAME=\"santa_ana_cc\"\n",
    "GCP_CONNECTION_NAME=\"demos-406119:us-central1:pbox-demo-replica\"\n",
    "GOOGLE_APPLICATION_CREDENTIALS= os.getenv(\"GOOGLE_APPLICATION_CREDENTIALS\")\n",
    "DB_USER=\"demo_user\"\n",
    "DB_PASS=\"0EtSv:{pn0hCCTKV\"\n",
    "\n",
    "def get_gcp_connector():\n",
    "    connector = Connector()\n",
    "    gcp_connector = connector.connect(\n",
    "        GCP_CONNECTION_NAME,\n",
    "        \"pg8000\",\n",
    "        user=DB_USER,\n",
    "        password=DB_PASS,\n",
    "        db=DB_NAME,\n",
    "\n",
    "    )\n",
    "    return gcp_connector\n",
    "\n",
    "\n",
    "# create an engine to the postgresql server, with no reference to the database\n",
    "engine = create_engine(\"postgresql+pg8000://\", creator=get_gcp_connector)\n",
    "print(engine)\n",
    "\n",
    "# Test the connection by running a simple query\n",
    "def test_connection():\n",
    "    try:\n",
    "        with engine.connect() as connection:\n",
    "            # Run a simple query\n",
    "            result = connection.execute(text(\"SELECT NOW()\"))\n",
    "            # Fetch and print the result\n",
    "            for row in result:\n",
    "                print(f\"Connected successfully. Current database time: {row[0]}\")\n",
    "    except Exception as e:\n",
    "        print(f\"Connection failed: {e}\")\n",
    "\n",
    "# Call the test function\n",
    "test_connection()"
   ]
  },
  {
   "cell_type": "markdown",
   "id": "8da92a73-9585-4292-b925-9181bf12ddb9",
   "metadata": {},
   "source": [
    "### SQL Query Wrapper"
   ]
  },
  {
   "cell_type": "markdown",
   "id": "53d76d85-7ec6-46d9-9435-6dbd310750f2",
   "metadata": {},
   "source": [
    "Takes in a SQL query and executes it through SQLAlchemy."
   ]
  },
  {
   "cell_type": "code",
   "execution_count": 54,
   "id": "96760c14-7dd4-496b-b22c-64dbe685230c",
   "metadata": {
    "tags": []
   },
   "outputs": [],
   "source": [
    "def execute_sql_query(query): # modified to return a list\n",
    "    try:\n",
    "        with engine.connect() as connection:\n",
    "            list = []\n",
    "            result = connection.execute(text(query))\n",
    "            # Fetch all results if it's a SELECT query\n",
    "            if query.strip().upper().startswith(\"SELECT\"):\n",
    "                rows = result.fetchall()\n",
    "                for row in rows:\n",
    "                    list.append(row)\n",
    "                return list\n",
    "            else:\n",
    "                print(\"Query executed successfully.\")\n",
    "    except Exception as e:\n",
    "        print(f\"Error occurred: {e}\")"
   ]
  },
  {
   "cell_type": "markdown",
   "id": "4c12e2e5-a694-49fc-b3f4-deda2a8d3181",
   "metadata": {
    "tags": []
   },
   "source": [
    "### Retrieve Metric Data Within A Defined Timeframe"
   ]
  },
  {
   "cell_type": "markdown",
   "id": "2c194a4f-1a60-460c-ade7-d10de9dc1577",
   "metadata": {},
   "source": [
    "Given a metric, table, starting date, and ending date, retrieve the available data from the PowerBox DB and convert it into a Pandas Dataframe."
   ]
  },
  {
   "cell_type": "code",
   "execution_count": 55,
   "id": "de68f970-e4b5-444f-9d52-2a5f5e0a3777",
   "metadata": {
    "tags": []
   },
   "outputs": [],
   "source": [
    "def find_df_in_range(metric: str, table: str, start_date: str, end_date: str) -> pd.DataFrame:\n",
    "    sql_query = 'SELECT ' + metric + ', timestamp FROM \"' + table + '\" WHERE \"timestamp\" BETWEEN ' + start_date + ' AND ' + end_date\n",
    "    \n",
    "    results = execute_sql_query(sql_query)\n",
    "    measurements = [row[0] for row in results]\n",
    "    timestamps = [pd.Timestamp(row[1]) for row in results]\n",
    "    \n",
    "    df = pd.DataFrame({\"time\": timestamps, metric: measurements})\n",
    "    df['time'] = pd.to_datetime(df['time'], format='%Y/%m/%d %H:%M:%S.%f', errors='coerce')\n",
    "    df['time'] = df['time'].dt.floor('s')\n",
    "    df = df.dropna(subset=['time'])\n",
    "    df = df.rename(columns={\"time\": \"ds\", metric: \"y\"})\n",
    "    return df"
   ]
  },
  {
   "cell_type": "code",
   "execution_count": 56,
   "id": "c23b7ec6-2c34-40ba-b88b-cbcd4ffd62b8",
   "metadata": {
    "tags": []
   },
   "outputs": [
    {
     "name": "stdout",
     "output_type": "stream",
     "text": [
      "                        ds                   y\n",
      "0      2024-03-07 00:00:02           37748.658\n",
      "1      2024-03-07 00:00:08           38080.832\n",
      "2      2024-03-07 00:00:14           37795.834\n",
      "3      2024-03-07 00:00:21           37807.625\n",
      "4      2024-03-07 00:00:27  37904.956000000006\n",
      "...                    ...                 ...\n",
      "385344 2024-04-06 23:59:27           29241.553\n",
      "385345 2024-04-06 23:59:34            29422.07\n",
      "385346 2024-04-06 23:59:40           30411.737\n",
      "385347 2024-04-06 23:59:47  28934.063000000002\n",
      "385348 2024-04-06 23:59:53  28911.061999999998\n",
      "\n",
      "[385349 rows x 2 columns]\n"
     ]
    }
   ],
   "source": [
    "metric = 'real_power'\n",
    "table = 'super_meter_1.1'\n",
    "start_date = \"'2024-03-07'\"\n",
    "end_date = \"'2024-04-07'\"\n",
    "test = find_df_in_range(metric, table, start_date, end_date)\n",
    "print(test)"
   ]
  },
  {
   "cell_type": "markdown",
   "id": "03e3b377-117f-4abd-bb48-af39386d46cd",
   "metadata": {},
   "source": [
    "### Metric Forecasting and Models"
   ]
  },
  {
   "cell_type": "markdown",
   "id": "82fa6bdc-88b8-442f-8243-6d50e64587f1",
   "metadata": {},
   "source": [
    "Use Prophet to create a model forecasting energy metrics over time. **Notice that running predictions with large amounts of data requires a lot more time and memory**."
   ]
  },
  {
   "cell_type": "code",
   "execution_count": 57,
   "id": "e97a210f-46a8-4659-9d47-866c40aa9e41",
   "metadata": {
    "tags": []
   },
   "outputs": [
    {
     "name": "stderr",
     "output_type": "stream",
     "text": [
      "22:56:26 - cmdstanpy - INFO - Chain [1] start processing\n",
      "23:00:17 - cmdstanpy - INFO - Chain [1] done processing\n"
     ]
    }
   ],
   "source": [
    "m = Prophet(changepoint_prior_scale=0.01).fit(test)"
   ]
  },
  {
   "cell_type": "code",
   "execution_count": 58,
   "id": "e6131536-5795-4aed-810f-d6af761a607e",
   "metadata": {
    "tags": []
   },
   "outputs": [
    {
     "data": {
      "text/html": [
       "<div>\n",
       "<style scoped>\n",
       "    .dataframe tbody tr th:only-of-type {\n",
       "        vertical-align: middle;\n",
       "    }\n",
       "\n",
       "    .dataframe tbody tr th {\n",
       "        vertical-align: top;\n",
       "    }\n",
       "\n",
       "    .dataframe thead th {\n",
       "        text-align: right;\n",
       "    }\n",
       "</style>\n",
       "<table border=\"1\" class=\"dataframe\">\n",
       "  <thead>\n",
       "    <tr style=\"text-align: right;\">\n",
       "      <th></th>\n",
       "      <th>ds</th>\n",
       "      <th>yhat</th>\n",
       "      <th>yhat_lower</th>\n",
       "      <th>yhat_upper</th>\n",
       "    </tr>\n",
       "  </thead>\n",
       "  <tbody>\n",
       "    <tr>\n",
       "      <th>385512</th>\n",
       "      <td>2024-04-13 19:59:53</td>\n",
       "      <td>52006.568821</td>\n",
       "      <td>10716.516645</td>\n",
       "      <td>96088.259400</td>\n",
       "    </tr>\n",
       "    <tr>\n",
       "      <th>385513</th>\n",
       "      <td>2024-04-13 20:59:53</td>\n",
       "      <td>50835.999939</td>\n",
       "      <td>9279.984767</td>\n",
       "      <td>94259.559700</td>\n",
       "    </tr>\n",
       "    <tr>\n",
       "      <th>385514</th>\n",
       "      <td>2024-04-13 21:59:53</td>\n",
       "      <td>47057.083465</td>\n",
       "      <td>3219.258114</td>\n",
       "      <td>89680.261160</td>\n",
       "    </tr>\n",
       "    <tr>\n",
       "      <th>385515</th>\n",
       "      <td>2024-04-13 22:59:53</td>\n",
       "      <td>42840.928877</td>\n",
       "      <td>382.893661</td>\n",
       "      <td>88984.370134</td>\n",
       "    </tr>\n",
       "    <tr>\n",
       "      <th>385516</th>\n",
       "      <td>2024-04-13 23:59:53</td>\n",
       "      <td>40314.747481</td>\n",
       "      <td>-4090.453314</td>\n",
       "      <td>89334.240435</td>\n",
       "    </tr>\n",
       "  </tbody>\n",
       "</table>\n",
       "</div>"
      ],
      "text/plain": [
       "                        ds          yhat    yhat_lower    yhat_upper\n",
       "385512 2024-04-13 19:59:53  52006.568821  10716.516645  96088.259400\n",
       "385513 2024-04-13 20:59:53  50835.999939   9279.984767  94259.559700\n",
       "385514 2024-04-13 21:59:53  47057.083465   3219.258114  89680.261160\n",
       "385515 2024-04-13 22:59:53  42840.928877    382.893661  88984.370134\n",
       "385516 2024-04-13 23:59:53  40314.747481  -4090.453314  89334.240435"
      ]
     },
     "execution_count": 58,
     "metadata": {},
     "output_type": "execute_result"
    }
   ],
   "source": [
    "future = m.make_future_dataframe(periods=24*7, freq='h')\n",
    "future.tail()\n",
    "forecast = m.predict(future)\n",
    "forecast[['ds', 'yhat', 'yhat_lower', 'yhat_upper']].tail()"
   ]
  },
  {
   "cell_type": "markdown",
   "id": "78d68321-9e1d-4d0b-8d32-61b26f121077",
   "metadata": {},
   "source": [
    "The following graph predicts **'real_power' over time**. It uses the above 'periods' and 'frequency' arguments in 'make_future_dataframe' to make the prediction cycle over a 24-hour period.\\\n",
    "Notice the fluctuations in our forecast. Our model captures the cyclic nature of energy consumption over a day-night period, where a business may be consuming more energy during the day than at night."
   ]
  },
  {
   "cell_type": "code",
   "execution_count": null,
   "id": "e1f988de-f0e5-4b35-b077-5000d3f551e9",
   "metadata": {
    "tags": []
   },
   "outputs": [],
   "source": [
    "real_power_forecast = m.plot(forecast)"
   ]
  },
  {
   "cell_type": "markdown",
   "id": "ff7c7bb6-4d47-4313-b83e-54486aa660ed",
   "metadata": {},
   "source": [
    "The following code processes and visualizes the predictions made by the Prophet model.\\\n",
    "Calculates the mean of predicted values (yhat) over fixed intervals (7000 data points, corresponding to day and night cycles).\\\n",
    "The bar chart visualizes the distribution of these means, helping to capture the temporal trends and variability of predictions over consistent time periods, and offering insights into patterns in forecasted power consumption."
   ]
  },
  {
   "cell_type": "code",
   "execution_count": null,
   "id": "1f050682-6928-418d-a125-0514a2d86f35",
   "metadata": {},
   "outputs": [],
   "source": [
    "import matplotlib.pyplot as plt \n",
    "forecast_table = forecast[['ds', 'yhat']]\n",
    "\n",
    "interval_size = 7000\n",
    "\n",
    "means = [\n",
    "    forecast_table['yhat'][i:i + interval_size].mean()\n",
    "    for i in range(0, len(forecast_table), interval_size)\n",
    "]\n",
    "\n",
    "interval_indices = range(len(means))\n",
    "plt.figure(figsize=(10, 6))\n",
    "plt.bar(interval_indices, means, width=0.8, color='blue', alpha=0.7)\n",
    "plt.title(\"Distribution of Means for the yhat\")\n",
    "plt.xlabel(\"Interval Index\")\n",
    "plt.ylabel(\"Mean of yhat\")\n",
    "plt.show()"
   ]
  },
  {
   "cell_type": "markdown",
   "id": "1205ee47-62f7-44d9-af53-6c4cd7fd48ec",
   "metadata": {},
   "source": [
    "### Analyzing And Visualizing Current Data"
   ]
  },
  {
   "cell_type": "code",
   "execution_count": 61,
   "id": "a8bd88af-b1b0-4fdb-9ddd-8e7f27b51443",
   "metadata": {},
   "outputs": [],
   "source": [
    "# function that changes the SQL queries into a Pandas dataframe\n",
    "def execute_pandas_query(query):\n",
    "    try:\n",
    "        with engine.connect() as connection:\n",
    "            result = connection.execute(text(query))\n",
    "            # Convert result to DataFrame\n",
    "            if query.strip().upper().startswith(\"SELECT\"):\n",
    "                df = pd.DataFrame(result.fetchall(), columns=result.keys())\n",
    "                return df\n",
    "            else:\n",
    "                print(\"Query executed successfully.\")\n",
    "                return None\n",
    "    except Exception as e:\n",
    "        print(f\"Error occurred: {e}\")\n",
    "        return None"
   ]
  },
  {
   "cell_type": "code",
   "execution_count": 62,
   "id": "72c166d5-b4b0-45f1-8e39-8a2a67a27a4a",
   "metadata": {
    "tags": []
   },
   "outputs": [],
   "source": [
    "%%capture\n",
    "sql_query = 'SELECT real_power, timestamp FROM \"super_meter_1.1\" WHERE \"timestamp\" BETWEEN ' + \"'2024-03-07'\" + ' AND ' + \"'2024-04-07'\""
   ]
  },
  {
   "cell_type": "code",
   "execution_count": 63,
   "id": "bacc73bf-e4fc-4c43-8d8d-303645fc1591",
   "metadata": {},
   "outputs": [
    {
     "data": {
      "text/html": [
       "<div>\n",
       "<style scoped>\n",
       "    .dataframe tbody tr th:only-of-type {\n",
       "        vertical-align: middle;\n",
       "    }\n",
       "\n",
       "    .dataframe tbody tr th {\n",
       "        vertical-align: top;\n",
       "    }\n",
       "\n",
       "    .dataframe thead th {\n",
       "        text-align: right;\n",
       "    }\n",
       "</style>\n",
       "<table border=\"1\" class=\"dataframe\">\n",
       "  <thead>\n",
       "    <tr style=\"text-align: right;\">\n",
       "      <th></th>\n",
       "      <th>real_power</th>\n",
       "    </tr>\n",
       "    <tr>\n",
       "      <th>timestamp</th>\n",
       "      <th></th>\n",
       "    </tr>\n",
       "  </thead>\n",
       "  <tbody>\n",
       "    <tr>\n",
       "      <th>2024-03-07 00:00:02.028179</th>\n",
       "      <td>37748.658</td>\n",
       "    </tr>\n",
       "    <tr>\n",
       "      <th>2024-03-07 00:00:08.706194</th>\n",
       "      <td>38080.832</td>\n",
       "    </tr>\n",
       "    <tr>\n",
       "      <th>2024-03-07 00:00:14.849997</th>\n",
       "      <td>37795.834</td>\n",
       "    </tr>\n",
       "    <tr>\n",
       "      <th>2024-03-07 00:00:21.199028</th>\n",
       "      <td>37807.625</td>\n",
       "    </tr>\n",
       "    <tr>\n",
       "      <th>2024-03-07 00:00:27.752682</th>\n",
       "      <td>37904.956000000006</td>\n",
       "    </tr>\n",
       "    <tr>\n",
       "      <th>...</th>\n",
       "      <td>...</td>\n",
       "    </tr>\n",
       "    <tr>\n",
       "      <th>2024-04-06 23:59:27.359311</th>\n",
       "      <td>29241.553</td>\n",
       "    </tr>\n",
       "    <tr>\n",
       "      <th>2024-04-06 23:59:34.118671</th>\n",
       "      <td>29422.07</td>\n",
       "    </tr>\n",
       "    <tr>\n",
       "      <th>2024-04-06 23:59:40.672097</th>\n",
       "      <td>30411.737</td>\n",
       "    </tr>\n",
       "    <tr>\n",
       "      <th>2024-04-06 23:59:47.227410</th>\n",
       "      <td>28934.063000000002</td>\n",
       "    </tr>\n",
       "    <tr>\n",
       "      <th>2024-04-06 23:59:53.780180</th>\n",
       "      <td>28911.061999999998</td>\n",
       "    </tr>\n",
       "  </tbody>\n",
       "</table>\n",
       "<p>385349 rows × 1 columns</p>\n",
       "</div>"
      ],
      "text/plain": [
       "                                    real_power\n",
       "timestamp                                     \n",
       "2024-03-07 00:00:02.028179           37748.658\n",
       "2024-03-07 00:00:08.706194           38080.832\n",
       "2024-03-07 00:00:14.849997           37795.834\n",
       "2024-03-07 00:00:21.199028           37807.625\n",
       "2024-03-07 00:00:27.752682  37904.956000000006\n",
       "...                                        ...\n",
       "2024-04-06 23:59:27.359311           29241.553\n",
       "2024-04-06 23:59:34.118671            29422.07\n",
       "2024-04-06 23:59:40.672097           30411.737\n",
       "2024-04-06 23:59:47.227410  28934.063000000002\n",
       "2024-04-06 23:59:53.780180  28911.061999999998\n",
       "\n",
       "[385349 rows x 1 columns]"
      ]
     },
     "execution_count": 63,
     "metadata": {},
     "output_type": "execute_result"
    }
   ],
   "source": [
    "df = execute_pandas_query(sql_query)\n",
    "df.set_index('timestamp', inplace=True)\n",
    "df"
   ]
  },
  {
   "cell_type": "markdown",
   "id": "a3a828e3-786d-4119-aeda-807c5f13f387",
   "metadata": {},
   "source": [
    "### Real Power Chart"
   ]
  },
  {
   "cell_type": "markdown",
   "id": "076bb051-961b-4534-8022-e598e9a4032d",
   "metadata": {},
   "source": [
    "Visualizes the 'real_power' metric data that we've collected over the selected timeframe."
   ]
  },
  {
   "cell_type": "code",
   "execution_count": null,
   "id": "8758885d-d828-4fe1-97bb-bedcd2c4e4ff",
   "metadata": {
    "tags": []
   },
   "outputs": [],
   "source": [
    "import plotly.graph_objects as go\n",
    "fig = go.Figure()\n",
    "fig.add_trace(go.Scatter(x=df.index, y=df['real_power'], name='power'))\n",
    "fig.show()"
   ]
  },
  {
   "cell_type": "code",
   "execution_count": 65,
   "id": "2492a64a-2fe5-40b1-936c-bdddb6ff1964",
   "metadata": {
    "tags": []
   },
   "outputs": [],
   "source": [
    "%%capture\n",
    "sql_query2 = 'SELECT timestamp, voltage_a, voltage_b, voltage_c FROM \"super_meter_1.1\" WHERE \"timestamp\" BETWEEN ' + \"'2024-03-07'\" + ' AND ' + \"'2024-04-07'\""
   ]
  },
  {
   "cell_type": "code",
   "execution_count": 66,
   "id": "5e59d9e7-9397-4394-a876-d990c270c56f",
   "metadata": {
    "tags": []
   },
   "outputs": [
    {
     "data": {
      "text/html": [
       "<div>\n",
       "<style scoped>\n",
       "    .dataframe tbody tr th:only-of-type {\n",
       "        vertical-align: middle;\n",
       "    }\n",
       "\n",
       "    .dataframe tbody tr th {\n",
       "        vertical-align: top;\n",
       "    }\n",
       "\n",
       "    .dataframe thead th {\n",
       "        text-align: right;\n",
       "    }\n",
       "</style>\n",
       "<table border=\"1\" class=\"dataframe\">\n",
       "  <thead>\n",
       "    <tr style=\"text-align: right;\">\n",
       "      <th></th>\n",
       "      <th>voltage_a</th>\n",
       "      <th>voltage_b</th>\n",
       "      <th>voltage_c</th>\n",
       "    </tr>\n",
       "    <tr>\n",
       "      <th>timestamp</th>\n",
       "      <th></th>\n",
       "      <th></th>\n",
       "      <th></th>\n",
       "    </tr>\n",
       "  </thead>\n",
       "  <tbody>\n",
       "    <tr>\n",
       "      <th>2024-03-07 00:00:02.028179</th>\n",
       "      <td>272.3</td>\n",
       "      <td>274.4</td>\n",
       "      <td>276.0</td>\n",
       "    </tr>\n",
       "    <tr>\n",
       "      <th>2024-03-07 00:00:08.706194</th>\n",
       "      <td>272.4</td>\n",
       "      <td>274.4</td>\n",
       "      <td>275.8</td>\n",
       "    </tr>\n",
       "    <tr>\n",
       "      <th>2024-03-07 00:00:14.849997</th>\n",
       "      <td>272.1</td>\n",
       "      <td>274.5</td>\n",
       "      <td>275.8</td>\n",
       "    </tr>\n",
       "    <tr>\n",
       "      <th>2024-03-07 00:00:21.199028</th>\n",
       "      <td>272.2</td>\n",
       "      <td>274.4</td>\n",
       "      <td>275.9</td>\n",
       "    </tr>\n",
       "    <tr>\n",
       "      <th>2024-03-07 00:00:27.752682</th>\n",
       "      <td>271.9</td>\n",
       "      <td>274.2</td>\n",
       "      <td>275.6</td>\n",
       "    </tr>\n",
       "    <tr>\n",
       "      <th>...</th>\n",
       "      <td>...</td>\n",
       "      <td>...</td>\n",
       "      <td>...</td>\n",
       "    </tr>\n",
       "    <tr>\n",
       "      <th>2024-04-06 23:59:27.359311</th>\n",
       "      <td>273.9</td>\n",
       "      <td>274.5</td>\n",
       "      <td>276.9</td>\n",
       "    </tr>\n",
       "    <tr>\n",
       "      <th>2024-04-06 23:59:34.118671</th>\n",
       "      <td>274.1</td>\n",
       "      <td>275.0</td>\n",
       "      <td>277.0</td>\n",
       "    </tr>\n",
       "    <tr>\n",
       "      <th>2024-04-06 23:59:40.672097</th>\n",
       "      <td>273.1</td>\n",
       "      <td>273.7</td>\n",
       "      <td>275.9</td>\n",
       "    </tr>\n",
       "    <tr>\n",
       "      <th>2024-04-06 23:59:47.227410</th>\n",
       "      <td>273.4</td>\n",
       "      <td>274.0</td>\n",
       "      <td>276.2</td>\n",
       "    </tr>\n",
       "    <tr>\n",
       "      <th>2024-04-06 23:59:53.780180</th>\n",
       "      <td>273.4</td>\n",
       "      <td>273.7</td>\n",
       "      <td>276.3</td>\n",
       "    </tr>\n",
       "  </tbody>\n",
       "</table>\n",
       "<p>385349 rows × 3 columns</p>\n",
       "</div>"
      ],
      "text/plain": [
       "                           voltage_a voltage_b voltage_c\n",
       "timestamp                                               \n",
       "2024-03-07 00:00:02.028179     272.3     274.4     276.0\n",
       "2024-03-07 00:00:08.706194     272.4     274.4     275.8\n",
       "2024-03-07 00:00:14.849997     272.1     274.5     275.8\n",
       "2024-03-07 00:00:21.199028     272.2     274.4     275.9\n",
       "2024-03-07 00:00:27.752682     271.9     274.2     275.6\n",
       "...                              ...       ...       ...\n",
       "2024-04-06 23:59:27.359311     273.9     274.5     276.9\n",
       "2024-04-06 23:59:34.118671     274.1     275.0     277.0\n",
       "2024-04-06 23:59:40.672097     273.1     273.7     275.9\n",
       "2024-04-06 23:59:47.227410     273.4     274.0     276.2\n",
       "2024-04-06 23:59:53.780180     273.4     273.7     276.3\n",
       "\n",
       "[385349 rows x 3 columns]"
      ]
     },
     "execution_count": 66,
     "metadata": {},
     "output_type": "execute_result"
    }
   ],
   "source": [
    "df2 = execute_pandas_query(sql_query2)\n",
    "df2.set_index('timestamp', inplace=True)\n",
    "df2"
   ]
  },
  {
   "cell_type": "markdown",
   "id": "dce4cff7-7874-4c86-a3af-0252628b818c",
   "metadata": {},
   "source": [
    "### Voltage Comparison Chart"
   ]
  },
  {
   "cell_type": "markdown",
   "id": "1b0dcc59-9659-4bd1-8c7a-88f2bf5900e6",
   "metadata": {},
   "source": [
    "Visualizes the various voltage metric data that we've collected over the selected timeframe."
   ]
  },
  {
   "cell_type": "code",
   "execution_count": null,
   "id": "0908f0a1-c662-479c-ae39-ce28c48e065f",
   "metadata": {
    "tags": []
   },
   "outputs": [],
   "source": [
    "fig = go.Figure()\n",
    "fig.add_trace(go.Scatter(x=df2.index, y=df2['voltage_a'], name='voltage_a'))\n",
    "fig.add_trace(go.Scatter(x=df2.index, y=df2['voltage_c'], name='voltage_c'))\n",
    "fig.add_trace(go.Scatter  (x=df2.index, y=df2['voltage_b'], name='voltage_b'))\n",
    "fig.show()"
   ]
  },
  {
   "cell_type": "code",
   "execution_count": 68,
   "id": "8105c0c8-56eb-411a-99b3-e6240e63d01f",
   "metadata": {
    "tags": []
   },
   "outputs": [
    {
     "data": {
      "text/html": [
       "<div>\n",
       "<style scoped>\n",
       "    .dataframe tbody tr th:only-of-type {\n",
       "        vertical-align: middle;\n",
       "    }\n",
       "\n",
       "    .dataframe tbody tr th {\n",
       "        vertical-align: top;\n",
       "    }\n",
       "\n",
       "    .dataframe thead th {\n",
       "        text-align: right;\n",
       "    }\n",
       "</style>\n",
       "<table border=\"1\" class=\"dataframe\">\n",
       "  <thead>\n",
       "    <tr style=\"text-align: right;\">\n",
       "      <th></th>\n",
       "      <th>energy</th>\n",
       "    </tr>\n",
       "    <tr>\n",
       "      <th>timestamp</th>\n",
       "      <th></th>\n",
       "    </tr>\n",
       "  </thead>\n",
       "  <tbody>\n",
       "    <tr>\n",
       "      <th>2024-03-07 00:00:00</th>\n",
       "      <td>6.638209520833333332777777778</td>\n",
       "    </tr>\n",
       "    <tr>\n",
       "      <th>2024-03-07 01:00:00</th>\n",
       "      <td>5.915694245833333336111111111</td>\n",
       "    </tr>\n",
       "    <tr>\n",
       "      <th>2024-03-07 02:00:00</th>\n",
       "      <td>6.365566577777777773888888889</td>\n",
       "    </tr>\n",
       "    <tr>\n",
       "      <th>2024-03-07 03:00:00</th>\n",
       "      <td>5.908588094722222256388888889</td>\n",
       "    </tr>\n",
       "    <tr>\n",
       "      <th>2024-03-07 04:00:00</th>\n",
       "      <td>5.607316477777777769444444444</td>\n",
       "    </tr>\n",
       "    <tr>\n",
       "      <th>...</th>\n",
       "      <td>...</td>\n",
       "    </tr>\n",
       "    <tr>\n",
       "      <th>2024-04-06 19:00:00</th>\n",
       "      <td>6.235854179444444453611111111</td>\n",
       "    </tr>\n",
       "    <tr>\n",
       "      <th>2024-04-06 20:00:00</th>\n",
       "      <td>6.936505670277777760277777778</td>\n",
       "    </tr>\n",
       "    <tr>\n",
       "      <th>2024-04-06 21:00:00</th>\n",
       "      <td>6.434681016666666666111111111</td>\n",
       "    </tr>\n",
       "    <tr>\n",
       "      <th>2024-04-06 22:00:00</th>\n",
       "      <td>6.231002835555555533055555556</td>\n",
       "    </tr>\n",
       "    <tr>\n",
       "      <th>2024-04-06 23:00:00</th>\n",
       "      <td>5.357667669999999989166666667</td>\n",
       "    </tr>\n",
       "  </tbody>\n",
       "</table>\n",
       "<p>744 rows × 1 columns</p>\n",
       "</div>"
      ],
      "text/plain": [
       "                                            energy\n",
       "timestamp                                         \n",
       "2024-03-07 00:00:00  6.638209520833333332777777778\n",
       "2024-03-07 01:00:00  5.915694245833333336111111111\n",
       "2024-03-07 02:00:00  6.365566577777777773888888889\n",
       "2024-03-07 03:00:00  5.908588094722222256388888889\n",
       "2024-03-07 04:00:00  5.607316477777777769444444444\n",
       "...                                            ...\n",
       "2024-04-06 19:00:00  6.235854179444444453611111111\n",
       "2024-04-06 20:00:00  6.936505670277777760277777778\n",
       "2024-04-06 21:00:00  6.434681016666666666111111111\n",
       "2024-04-06 22:00:00  6.231002835555555533055555556\n",
       "2024-04-06 23:00:00  5.357667669999999989166666667\n",
       "\n",
       "[744 rows x 1 columns]"
      ]
     },
     "execution_count": 68,
     "metadata": {},
     "output_type": "execute_result"
    }
   ],
   "source": [
    "# df['timestamp'] = pd.to_datetime(df['timestamp'])\n",
    "# df.set_index('timestamp', inplace=True)\n",
    "\n",
    "# Adjusting the resampling frequency to '1H' (hourly) instead of 'D' (daily)\n",
    "new_df = df['real_power'].resample('1h').sum() / 3600 / 1000  # Adjust for kWh if needed\n",
    "new_df = new_df.rename(\"energy\")\n",
    "\n",
    "# Convert to DataFrame and print the results to check\n",
    "new_df = new_df.to_frame()\n",
    "new_df"
   ]
  },
  {
   "cell_type": "markdown",
   "id": "60588e75-3593-446a-b946-4c92682fedd9",
   "metadata": {},
   "source": [
    "### Hourly Energy Consumption Chart"
   ]
  },
  {
   "cell_type": "markdown",
   "id": "b9820d88-5f7a-4b78-87e5-cec9ca192e85",
   "metadata": {},
   "source": [
    "Visualizes the 'real_power' metric data that we've collected over the selected timeframe in an hourly breakdown."
   ]
  },
  {
   "cell_type": "code",
   "execution_count": null,
   "id": "d39ae6a0-70a1-4382-85f7-fca2992d1c39",
   "metadata": {
    "tags": []
   },
   "outputs": [],
   "source": [
    "import plotly.express as px\n",
    "\n",
    "fig = px.bar(new_df, x=new_df.index, y='energy', title=\"Hourly Energy Consumption\")\n",
    "fig.show()"
   ]
  },
  {
   "cell_type": "code",
   "execution_count": 70,
   "id": "be454163-a71d-4c19-9f58-636e20ad1f90",
   "metadata": {
    "tags": []
   },
   "outputs": [
    {
     "data": {
      "text/html": [
       "<div>\n",
       "<style scoped>\n",
       "    .dataframe tbody tr th:only-of-type {\n",
       "        vertical-align: middle;\n",
       "    }\n",
       "\n",
       "    .dataframe tbody tr th {\n",
       "        vertical-align: top;\n",
       "    }\n",
       "\n",
       "    .dataframe thead th {\n",
       "        text-align: right;\n",
       "    }\n",
       "</style>\n",
       "<table border=\"1\" class=\"dataframe\">\n",
       "  <thead>\n",
       "    <tr style=\"text-align: right;\">\n",
       "      <th></th>\n",
       "      <th>ds</th>\n",
       "      <th>y</th>\n",
       "    </tr>\n",
       "    <tr>\n",
       "      <th>timestamp</th>\n",
       "      <th></th>\n",
       "      <th></th>\n",
       "    </tr>\n",
       "  </thead>\n",
       "  <tbody>\n",
       "    <tr>\n",
       "      <th>2024-03-07 00:00:00</th>\n",
       "      <td>2024-03-07 00:00:00</td>\n",
       "      <td>6.638209520833333332777777778</td>\n",
       "    </tr>\n",
       "    <tr>\n",
       "      <th>2024-03-07 01:00:00</th>\n",
       "      <td>2024-03-07 01:00:00</td>\n",
       "      <td>5.915694245833333336111111111</td>\n",
       "    </tr>\n",
       "    <tr>\n",
       "      <th>2024-03-07 02:00:00</th>\n",
       "      <td>2024-03-07 02:00:00</td>\n",
       "      <td>6.365566577777777773888888889</td>\n",
       "    </tr>\n",
       "    <tr>\n",
       "      <th>2024-03-07 03:00:00</th>\n",
       "      <td>2024-03-07 03:00:00</td>\n",
       "      <td>5.908588094722222256388888889</td>\n",
       "    </tr>\n",
       "    <tr>\n",
       "      <th>2024-03-07 04:00:00</th>\n",
       "      <td>2024-03-07 04:00:00</td>\n",
       "      <td>5.607316477777777769444444444</td>\n",
       "    </tr>\n",
       "    <tr>\n",
       "      <th>...</th>\n",
       "      <td>...</td>\n",
       "      <td>...</td>\n",
       "    </tr>\n",
       "    <tr>\n",
       "      <th>2024-04-06 19:00:00</th>\n",
       "      <td>2024-04-06 19:00:00</td>\n",
       "      <td>6.235854179444444453611111111</td>\n",
       "    </tr>\n",
       "    <tr>\n",
       "      <th>2024-04-06 20:00:00</th>\n",
       "      <td>2024-04-06 20:00:00</td>\n",
       "      <td>6.936505670277777760277777778</td>\n",
       "    </tr>\n",
       "    <tr>\n",
       "      <th>2024-04-06 21:00:00</th>\n",
       "      <td>2024-04-06 21:00:00</td>\n",
       "      <td>6.434681016666666666111111111</td>\n",
       "    </tr>\n",
       "    <tr>\n",
       "      <th>2024-04-06 22:00:00</th>\n",
       "      <td>2024-04-06 22:00:00</td>\n",
       "      <td>6.231002835555555533055555556</td>\n",
       "    </tr>\n",
       "    <tr>\n",
       "      <th>2024-04-06 23:00:00</th>\n",
       "      <td>2024-04-06 23:00:00</td>\n",
       "      <td>5.357667669999999989166666667</td>\n",
       "    </tr>\n",
       "  </tbody>\n",
       "</table>\n",
       "<p>744 rows × 2 columns</p>\n",
       "</div>"
      ],
      "text/plain": [
       "                                     ds                              y\n",
       "timestamp                                                             \n",
       "2024-03-07 00:00:00 2024-03-07 00:00:00  6.638209520833333332777777778\n",
       "2024-03-07 01:00:00 2024-03-07 01:00:00  5.915694245833333336111111111\n",
       "2024-03-07 02:00:00 2024-03-07 02:00:00  6.365566577777777773888888889\n",
       "2024-03-07 03:00:00 2024-03-07 03:00:00  5.908588094722222256388888889\n",
       "2024-03-07 04:00:00 2024-03-07 04:00:00  5.607316477777777769444444444\n",
       "...                                 ...                            ...\n",
       "2024-04-06 19:00:00 2024-04-06 19:00:00  6.235854179444444453611111111\n",
       "2024-04-06 20:00:00 2024-04-06 20:00:00  6.936505670277777760277777778\n",
       "2024-04-06 21:00:00 2024-04-06 21:00:00  6.434681016666666666111111111\n",
       "2024-04-06 22:00:00 2024-04-06 22:00:00  6.231002835555555533055555556\n",
       "2024-04-06 23:00:00 2024-04-06 23:00:00  5.357667669999999989166666667\n",
       "\n",
       "[744 rows x 2 columns]"
      ]
     },
     "execution_count": 70,
     "metadata": {},
     "output_type": "execute_result"
    }
   ],
   "source": [
    "hourly_energy = df['real_power'].groupby(pd.Grouper(freq='1h')).sum()/3600/1000\n",
    "frame = { 'ds': hourly_energy.index, 'y': hourly_energy }\n",
    "df_new = pd.DataFrame(frame)\n",
    "df_new"
   ]
  },
  {
   "cell_type": "markdown",
   "id": "f59edf8a-78d0-49e7-b866-ddeee7b49da3",
   "metadata": {},
   "source": [
    "### Hourly Energy Consumption Forecast"
   ]
  },
  {
   "cell_type": "markdown",
   "id": "a0c6ab66-81b1-460a-8b22-b6c45b318d90",
   "metadata": {},
   "source": [
    "Forecasting 'real_power' metric in an hourly format."
   ]
  },
  {
   "cell_type": "code",
   "execution_count": null,
   "id": "759559e9-0301-4d30-b4e9-3c7bf275ee02",
   "metadata": {
    "tags": []
   },
   "outputs": [],
   "source": [
    "m = Prophet(changepoint_prior_scale=0.01).fit(df_new)\n",
    "\n",
    "future = m.make_future_dataframe(periods=24*7, freq='h')\n",
    "forecast = m.predict(future)\n",
    "\n",
    "fig1 = m.plot(forecast, xlabel = 'timestamp',ylabel = 'energy')\n",
    "ax = fig1.gca()\n",
    "ax.set_title(\"Hourly Energy Consumption\", size=24)"
   ]
  },
  {
   "cell_type": "markdown",
   "id": "88068e92-434a-4243-8c93-220714c1f815",
   "metadata": {},
   "source": [
    "## Storage and Scheduling"
   ]
  },
  {
   "cell_type": "markdown",
   "id": "036a147f-f1e0-4f15-926e-576b9192189f",
   "metadata": {
    "tags": []
   },
   "source": [
    "#### Procedure:\n",
    "Click 'Execute' in the tabs above to open the executor. Here, we can schedule automated notebook runs, and store the outputs in a Cloud Storage Bucket.\n",
    "\n",
    "Using the Unix Cron format, we can input the following schedule: */15 * * * *\n"
   ]
  },
  {
   "cell_type": "markdown",
   "id": "cb34d304-20e0-4051-a1a8-7574531b78f1",
   "metadata": {
    "tags": []
   },
   "source": [
    "This schedules the notebook to run every 15 minutes, every hour, every day of the month, every month, every day of the week.\n",
    "Make sure to store the results in a Cloud Storage bucket (advanced options)."
   ]
  },
  {
   "cell_type": "markdown",
   "id": "7f9de573-0a7c-4586-b2f5-037f55f20246",
   "metadata": {
    "tags": []
   },
   "source": [
    "#### Set up the client"
   ]
  },
  {
   "cell_type": "code",
   "execution_count": 72,
   "id": "e7e9a27c-00b7-4095-8259-e013a879457e",
   "metadata": {
    "tags": []
   },
   "outputs": [],
   "source": [
    "from google.cloud import storage\n",
    "\n",
    "# set up client and bucket\n",
    "BUCKET_NAME = 'powerbox-test-438421-us-notebooks'\n",
    "OUTPUT_PATH = 'scheduled_results_real' # output to <BUCKET_NAME>/<OUTPUT_PATH> in Cloud Storage\n",
    "\n",
    "client = storage.Client()\n",
    "bucket = client.bucket(BUCKET_NAME)"
   ]
  },
  {
   "cell_type": "markdown",
   "id": "a22d1185-a2fd-4a5a-930b-45083b9c0475",
   "metadata": {
    "tags": []
   },
   "source": [
    "#### Uploading output"
   ]
  },
  {
   "cell_type": "markdown",
   "id": "80724eb9-7bd4-40f7-94ca-23e25b8c4985",
   "metadata": {},
   "source": [
    "We want to make sure that our outputs are distinguishable in some way so that we prevent overwriting existing outputs, and for easy identification of past results. Use a timestamp to identify each output."
   ]
  },
  {
   "cell_type": "markdown",
   "id": "be7393b1-a405-4aeb-849b-ed2d1b569e33",
   "metadata": {},
   "source": [
    "Example for uploading plots. We can also save the data in text, as a PNG, CSV, etc."
   ]
  },
  {
   "cell_type": "code",
   "execution_count": 73,
   "id": "977ef89a-d693-4caf-93c1-ff5f0bd5ba02",
   "metadata": {
    "tags": []
   },
   "outputs": [
    {
     "name": "stdout",
     "output_type": "stream",
     "text": [
      "2024_12_18_23:06:57\n",
      "real_power_forecast_2024_12_18_23:06:57.png\n",
      "Uploaded real_power_forecast_2024_12_18_23:06:57.png to powerbox-test-438421-us-notebooks/scheduled_results_real\n"
     ]
    }
   ],
   "source": [
    "import datetime\n",
    "import os\n",
    "import matplotlib.pyplot as plt\n",
    "\n",
    "# generate a timestamp\n",
    "timestamp = datetime.datetime.now().strftime(\"%Y_%m_%d_%H:%M:%S\")\n",
    "print(timestamp)\n",
    "\n",
    "# create the output file with the timestamp\n",
    "output_file = f\"real_power_forecast_{timestamp}.png\" # png\n",
    "print(output_file)\n",
    "\n",
    "# write plot to output_file\n",
    "real_power_forecast.savefig(output_file) # real_power_forecast model calculated above\n",
    "\n",
    "# save and upload to Cloud Storage\n",
    "blob = bucket.blob(OUTPUT_PATH + \"/\" +  output_file) # store at <BUCKET_NAME>/<OUTPUT_PATH>/<output_file> in Cloud Storage\n",
    "blob.upload_from_filename(output_file)\n",
    "print(f\"Uploaded {output_file} to {BUCKET_NAME}/{OUTPUT_PATH}\")\n",
    "\n",
    "# remove local output\n",
    "os.remove(output_file)"
   ]
  },
  {
   "cell_type": "code",
   "execution_count": null,
   "id": "ad90f98b-3895-4f39-af1b-6d4f4a7a8c51",
   "metadata": {},
   "outputs": [],
   "source": []
  }
 ],
 "metadata": {
  "environment": {
   "kernel": "conda-base-py",
   "name": "workbench-notebooks.m125",
   "type": "gcloud",
   "uri": "us-docker.pkg.dev/deeplearning-platform-release/gcr.io/workbench-notebooks:m125"
  },
  "kernelspec": {
   "display_name": "Python 3 (ipykernel) (Local)",
   "language": "python",
   "name": "conda-base-py"
  },
  "language_info": {
   "codemirror_mode": {
    "name": "ipython",
    "version": 3
   },
   "file_extension": ".py",
   "mimetype": "text/x-python",
   "name": "python",
   "nbconvert_exporter": "python",
   "pygments_lexer": "ipython3",
   "version": "3.10.15"
  }
 },
 "nbformat": 4,
 "nbformat_minor": 5
}
