{
 "cells": [
  {
   "cell_type": "markdown",
   "metadata": {},
   "source": [
    "<p> This code was written to retrieve power usage data from a PostgreSQL table and create a time series model using Meta's Prophet API. Certain lines of code have been removed for privacy reasons, however the code's functionallity remains intact.<p>"
   ]
  },
  {
   "cell_type": "code",
   "execution_count": null,
   "metadata": {},
   "outputs": [],
   "source": [
    "import os\n",
    "from sqlalchemy import create_engine, text\n",
    "from google.cloud.sql.connector import Connector\n",
    "import google.auth\n",
    "import pandas as pd\n",
    "from prophet import Prophet\n",
    "\n",
    "\n",
    "DB_NAME=\"removed\"\n",
    "GCP_CONNECTION_NAME=\"removed\"\n",
    "GOOGLE_APPLICATION_CREDENTIALS='removed'\n",
    "DB_USER=\"removed\"\n",
    "DB_PASS=\"removed\"\n",
    "\n",
    "# Added new line\n",
    "os.environ[\"GOOGLE_APPLICATION_CREDENTIALS\"] = GOOGLE_APPLICATION_CREDENTIALS\n",
    "\n",
    "def get_gcp_connector():\n",
    "    connector = Connector()\n",
    "    gcp_connector = connector.connect(\n",
    "        GCP_CONNECTION_NAME,\n",
    "        \"pg8000\",\n",
    "        user=DB_USER,\n",
    "        password=DB_PASS,\n",
    "        db=DB_NAME,\n",
    "\n",
    "    )\n",
    "    return gcp_connector\n",
    "\n",
    "\n",
    "# create an engine to the postgresql server, with no reference to the database\n",
    "google.auth.default()\n",
    "engine = create_engine(\"postgresql+pg8000://\", creator=get_gcp_connector)\n",
    "print(engine)\n",
    "\n",
    "# Test the connection by running a simple query\n",
    "def test_connection():\n",
    "    try:\n",
    "        with engine.connect() as connection:\n",
    "            # Run a simple query\n",
    "            result = connection.execute(text(\"SELECT NOW()\"))\n",
    "            # Fetch and print the result\n",
    "            for row in result:\n",
    "                print(f\"Connected successfully. Current database time: {row[0]}\")\n",
    "    except Exception as e:\n",
    "        print(f\"Connection failed: {e}\")\n",
    "\n",
    "# Call the test function\n",
    "test_connection()"
   ]
  },
  {
   "cell_type": "code",
   "execution_count": null,
   "metadata": {},
   "outputs": [],
   "source": [
    "def execute_sql_query(query): # modified to return a list\n",
    "    try:\n",
    "        with engine.connect() as connection:\n",
    "            list = []\n",
    "            result = connection.execute(text(query))\n",
    "            # Fetch all results if it's a SELECT query\n",
    "            if query.strip().upper().startswith(\"SELECT\"):\n",
    "                rows = result.fetchall()\n",
    "                for row in rows:\n",
    "                    list.append(row)\n",
    "                return list\n",
    "            else:\n",
    "                print(\"Query executed successfully.\")\n",
    "    except Exception as e:\n",
    "        print(f\"Error occurred: {e}\")"
   ]
  },
  {
   "cell_type": "code",
   "execution_count": null,
   "metadata": {},
   "outputs": [],
   "source": [
    "def find_df_in_range(start_date: str, end_date: str) -> pd.DataFrame:\n",
    "    sql_query = 'SELECT real_power, timestamp FROM \"super_meter_1.1\" WHERE \"timestamp\" BETWEEN ' + start_date + ' AND ' + end_date\n",
    "    results = execute_sql_query(sql_query)\n",
    "    real_power = [row[0] for row in results]\n",
    "    timestamps = [pd.Timestamp(row[1]) for row in results]\n",
    "    df = pd.DataFrame({\"time\": timestamps, \"real_power\": real_power})\n",
    "    df['time'] = pd.to_datetime(df['time'], format='%Y/%m/%d %H:%M:%S.%f', errors='coerce')\n",
    "    df['time'] = df['time'].dt.floor('s')\n",
    "    df = df.dropna(subset=['time'])\n",
    "    df = df.rename(columns={\"time\": \"ds\", \"real_power\": \"y\"})\n",
    "    return df\n",
    "\n",
    "test = find_df_in_range(\"'2024-02-26 15:36:15'\", \"'2024-03-26 15:37:05'\")"
   ]
  },
  {
   "cell_type": "code",
   "execution_count": null,
   "metadata": {},
   "outputs": [],
   "source": [
    "m = Prophet()\n",
    "m.fit(test)"
   ]
  },
  {
   "cell_type": "code",
   "execution_count": null,
   "metadata": {},
   "outputs": [],
   "source": [
    "future = m.make_future_dataframe(periods=2)\n",
    "future.tail()\n",
    "forecast = m.predict(future)\n",
    "forecast[['ds', 'yhat', 'yhat_lower', 'yhat_upper']].tail()"
   ]
  },
  {
   "cell_type": "code",
   "execution_count": null,
   "metadata": {},
   "outputs": [],
   "source": [
    "fig1 = m.plot(forecast)"
   ]
  }
 ],
 "metadata": {
  "language_info": {
   "name": "python"
  }
 },
 "nbformat": 4,
 "nbformat_minor": 2
}
